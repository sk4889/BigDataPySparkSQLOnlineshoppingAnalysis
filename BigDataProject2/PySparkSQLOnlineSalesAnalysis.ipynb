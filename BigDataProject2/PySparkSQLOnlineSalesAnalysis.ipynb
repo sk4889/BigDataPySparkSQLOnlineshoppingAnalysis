{
 "cells": [
  {
   "cell_type": "markdown",
   "metadata": {
    "application/vnd.databricks.v1+cell": {
     "inputWidgets": {},
     "nuid": "96816ed7-b08a-4ca3-abb9-f99880c3535d",
     "showTitle": false,
     "title": ""
    },
    "id": "tXeAKi8hdpqu"
   },
   "source": [
    "## Online Shopping Sales Analysis\n",
    "Read the data and solve the following questions to get meaningful insights"
   ]
  },
  {
   "cell_type": "markdown",
   "metadata": {
    "id": "SfIDL1OFdq0m"
   },
   "source": [
    "<br>**User_ID** : User id\n",
    "<br>**Product_ID** : Product id\n",
    "<br>**Gender** : Customer's gender\n",
    "<br>**Age** : Customer's age\n",
    "<br>**Occupation** : Customer's occupation\n",
    "<br>**City_Category** : Three types of cities with different spending capacity\n",
    "<br>**Stay_In_Current_City_Years** : Amount of years a customer has stayed in a particular city\n",
    "<br>**Marital_Status** : Marital status of the customer\n",
    "<br>**Product_Category_1** : Eighteen types of the cloth products\n",
    "<br>**Purchase** : Was the product purchased or not purchased"
   ]
  },
  {
   "cell_type": "markdown",
   "metadata": {
    "application/vnd.databricks.v1+cell": {
     "inputWidgets": {},
     "nuid": "fd0d8456-00af-4117-a52f-05d45a769c62",
     "showTitle": false,
     "title": ""
    },
    "id": "N_T_OfK8dpq0"
   },
   "source": [
    "###  Read/load the data into spark dataframe"
   ]
  },
  {
   "cell_type": "code",
   "execution_count": 1,
   "metadata": {},
   "outputs": [
    {
     "name": "stdout",
     "output_type": "stream",
     "text": [
      "+-------+----------+------+-----+----------+-------------+--------------------------+--------------+------------------+--------+\n",
      "|User_ID|Product_ID|Gender|  Age|Occupation|City_Category|Stay_In_Current_City_Years|Marital_Status|Product_Category_1|Purchase|\n",
      "+-------+----------+------+-----+----------+-------------+--------------------------+--------------+------------------+--------+\n",
      "|1000001| P00069042|     F| 0-17|        10|            A|                         2|             0|                 3|    8370|\n",
      "|1000001| P00248942|     F| 0-17|        10|            A|                         2|             0|                 1|   15200|\n",
      "|1000001| P00087842|     F| 0-17|        10|            A|                         2|             0|                12|    1422|\n",
      "|1000001| P00085442|     F| 0-17|        10|            A|                         2|             0|                12|    1057|\n",
      "|1000002| P00285442|     M|  55+|        16|            C|                        4+|             0|                 8|    7969|\n",
      "|1000003| P00193542|     M|26-35|        15|            A|                         3|             0|                 1|   15227|\n",
      "|1000004| P00184942|     M|46-50|         7|            B|                         2|             1|                 1|   19215|\n",
      "|1000004| P00346142|     M|46-50|         7|            B|                         2|             1|                 1|   15854|\n",
      "|1000004|  P0097242|     M|46-50|         7|            B|                         2|             1|                 1|   15686|\n",
      "|1000005| P00274942|     M|26-35|        20|            A|                         1|             1|                 8|    7871|\n",
      "|1000005| P00251242|     M|26-35|        20|            A|                         1|             1|                 5|    5254|\n",
      "|1000005| P00014542|     M|26-35|        20|            A|                         1|             1|                 8|    3957|\n",
      "|1000005| P00031342|     M|26-35|        20|            A|                         1|             1|                 8|    6073|\n",
      "|1000005| P00145042|     M|26-35|        20|            A|                         1|             1|                 1|   15665|\n",
      "|1000006| P00231342|     F|51-55|         9|            A|                         1|             0|                 5|    5378|\n",
      "|1000006| P00190242|     F|51-55|         9|            A|                         1|             0|                 4|    2079|\n",
      "|1000006|  P0096642|     F|51-55|         9|            A|                         1|             0|                 2|   13055|\n",
      "|1000006| P00058442|     F|51-55|         9|            A|                         1|             0|                 5|    8851|\n",
      "|1000007| P00036842|     M|36-45|         1|            B|                         1|             1|                 1|   11788|\n",
      "|1000008| P00249542|     M|26-35|        12|            C|                        4+|             1|                 1|   19614|\n",
      "+-------+----------+------+-----+----------+-------------+--------------------------+--------------+------------------+--------+\n",
      "only showing top 20 rows\n",
      "\n"
     ]
    }
   ],
   "source": [
    "# # hint code to load the data into spark dataframe \n",
    "import numpy as np # linear algebra\n",
    "import matplotlib.pyplot as plt \n",
    "import seaborn as sns\n",
    "import pandas as pd\n",
    "\n",
    "from pyspark.context import SparkContext\n",
    "from pyspark.sql.session import SparkSession\n",
    " \n",
    "sc = SparkContext.getOrCreate()\n",
    "spark = SparkSession(sc)\n",
    "\n",
    "# # File location and type\n",
    "file_location = \"salesdatatrain.csv\"\n",
    "file_type = \"csv\"\n",
    "\n",
    "# # CSV options\n",
    "infer_schema = \"true\"\n",
    "first_row_is_header = \"true\"\n",
    "delimiter = \",\"\n",
    "\n",
    "# # The applied options are for CSV files. For other file types, these will be ignored.\n",
    "rawDF = spark.read.format(file_type) \\\n",
    "  .option(\"inferSchema\", infer_schema) \\\n",
    "  .option(\"header\", first_row_is_header) \\\n",
    "  .option(\"sep\", delimiter) \\\n",
    "  .load(file_location)\n",
    "\n",
    "rawDF.show()"
   ]
  },
  {
   "cell_type": "markdown",
   "metadata": {
    "application/vnd.databricks.v1+cell": {
     "inputWidgets": {},
     "nuid": "213acad4-1668-405d-879b-9ab98845ac0d",
     "showTitle": false,
     "title": ""
    },
    "id": "XCHKNRFadpq0"
   },
   "source": [
    "### Q1. Print the number of rows and columns of the data"
   ]
  },
  {
   "cell_type": "code",
   "execution_count": 2,
   "metadata": {
    "id": "1BUuoOugdpq1"
   },
   "outputs": [
    {
     "name": "stdout",
     "output_type": "stream",
     "text": [
      "number of rows: 550068 \tnumber of columns: 10\n"
     ]
    }
   ],
   "source": [
    "print('number of rows:',rawDF.count(), '\\tnumber of columns:',len(rawDF.columns))"
   ]
  },
  {
   "cell_type": "markdown",
   "metadata": {
    "application/vnd.databricks.v1+cell": {
     "inputWidgets": {},
     "nuid": "425b2730-6acc-44a2-a944-edb906fb6275",
     "showTitle": false,
     "title": ""
    },
    "id": "8vld-5JZdpq1"
   },
   "source": [
    "### Q2. Print schema and change column data types wherever necessary"
   ]
  },
  {
   "cell_type": "code",
   "execution_count": 3,
   "metadata": {},
   "outputs": [],
   "source": [
    "from pyspark.sql.functions import col"
   ]
  },
  {
   "cell_type": "code",
   "execution_count": 4,
   "metadata": {
    "id": "N4i-_zF1dpq1"
   },
   "outputs": [
    {
     "name": "stdout",
     "output_type": "stream",
     "text": [
      "root\n",
      " |-- User_ID: integer (nullable = true)\n",
      " |-- Product_ID: string (nullable = true)\n",
      " |-- Gender: string (nullable = true)\n",
      " |-- Age: string (nullable = true)\n",
      " |-- Occupation: integer (nullable = true)\n",
      " |-- City_Category: string (nullable = true)\n",
      " |-- Stay_In_Current_City_Years: string (nullable = true)\n",
      " |-- Marital_Status: integer (nullable = true)\n",
      " |-- Product_Category_1: integer (nullable = true)\n",
      " |-- Purchase: integer (nullable = true)\n",
      "\n"
     ]
    }
   ],
   "source": [
    "rawDF.printSchema()"
   ]
  },
  {
   "cell_type": "markdown",
   "metadata": {
    "application/vnd.databricks.v1+cell": {
     "inputWidgets": {},
     "nuid": "fdfe5982-93ab-4b95-813c-94fbab755e69",
     "showTitle": false,
     "title": ""
    },
    "id": "Lpsp8qPidpq2"
   },
   "source": [
    "### Q3. Check basic statistics"
   ]
  },
  {
   "cell_type": "code",
   "execution_count": 5,
   "metadata": {
    "id": "A0MSEi_6dpq2"
   },
   "outputs": [
    {
     "name": "stdout",
     "output_type": "stream",
     "text": [
      "+-------+------------------+----------+------+------+------------------+-------------+--------------------------+-------------------+------------------+-----------------+\n",
      "|summary|           User_ID|Product_ID|Gender|   Age|        Occupation|City_Category|Stay_In_Current_City_Years|     Marital_Status|Product_Category_1|         Purchase|\n",
      "+-------+------------------+----------+------+------+------------------+-------------+--------------------------+-------------------+------------------+-----------------+\n",
      "|  count|            550068|    550068|550068|550068|            550068|       550068|                    550068|             550068|            550068|           550068|\n",
      "|   mean|1003028.8424013031|      null|  null|  null| 8.076706879876669|         null|         1.468494139793958|0.40965298835780306| 5.404270017525106|9263.968712959126|\n",
      "| stddev|1727.5915855305068|      null|  null|  null|6.5226604873418275|         null|        0.9890866807573174|0.49177012631732925|3.9362113692013985|5023.065393820588|\n",
      "|    min|           1000001| P00000142|     F|  0-17|                 0|            A|                         0|                  0|                 1|               12|\n",
      "|    max|           1006040|  P0099942|     M|   55+|                20|            C|                        4+|                  1|                20|            23961|\n",
      "+-------+------------------+----------+------+------+------------------+-------------+--------------------------+-------------------+------------------+-----------------+\n",
      "\n"
     ]
    }
   ],
   "source": [
    "rawDF.describe().show()"
   ]
  },
  {
   "cell_type": "markdown",
   "metadata": {
    "application/vnd.databricks.v1+cell": {
     "inputWidgets": {},
     "nuid": "37848e01-7911-4963-a9c1-d084b6d9362f",
     "showTitle": false,
     "title": ""
    },
    "id": "wTQcNjuhdpq2"
   },
   "source": [
    "### Q4. Which age group has the highest purchase share"
   ]
  },
  {
   "cell_type": "code",
   "execution_count": 6,
   "metadata": {
    "id": "89CS6byldpq3"
   },
   "outputs": [
    {
     "name": "stdout",
     "output_type": "stream",
     "text": [
      "+-----+-------------+\n",
      "|Age  |sum(Purchase)|\n",
      "+-----+-------------+\n",
      "|26-35|2031770578   |\n",
      "+-----+-------------+\n",
      "only showing top 1 row\n",
      "\n"
     ]
    }
   ],
   "source": [
    "rawDF.groupBy(\"Age\").sum(\"Purchase\").orderBy(\"sum(Purchase)\",ascending = False).show(1,False)"
   ]
  },
  {
   "cell_type": "markdown",
   "metadata": {},
   "source": [
    "highest purchase share is from 26-35 age group"
   ]
  },
  {
   "cell_type": "markdown",
   "metadata": {
    "application/vnd.databricks.v1+cell": {
     "inputWidgets": {},
     "nuid": "a880f57b-598e-420f-a947-8b5da98fe877",
     "showTitle": false,
     "title": ""
    },
    "id": "94nVtSdYdpq3"
   },
   "source": [
    "### Q5. Plot the bar chart showing the distribution of Purchase according to the age group"
   ]
  },
  {
   "cell_type": "code",
   "execution_count": 7,
   "metadata": {
    "id": "HvFgQQPodpq3"
   },
   "outputs": [],
   "source": [
    "pandas_DF = rawDF.groupBy(\"Age\").sum(\"Purchase\").orderBy(\"sum(Purchase)\",ascending = False).toPandas()"
   ]
  },
  {
   "cell_type": "code",
   "execution_count": 8,
   "metadata": {},
   "outputs": [],
   "source": [
    "pandas_DF.set_index('Age', inplace=True)"
   ]
  },
  {
   "cell_type": "code",
   "execution_count": 9,
   "metadata": {},
   "outputs": [
    {
     "data": {
      "text/plain": [
       "<AxesSubplot:xlabel='Age'>"
      ]
     },
     "execution_count": 9,
     "metadata": {},
     "output_type": "execute_result"
    },
    {
     "data": {
      "image/png": "[encoded data removed]",
      "text/plain": [
       "<Figure size 864x432 with 1 Axes>"
      ]
     },
     "metadata": {
      "needs_background": "light"
     },
     "output_type": "display_data"
    }
   ],
   "source": [
    "pandas_DF.plot(kind='bar',figsize=(12,6))"
   ]
  },
  {
   "cell_type": "markdown",
   "metadata": {
    "application/vnd.databricks.v1+cell": {
     "inputWidgets": {},
     "nuid": "ebbb5d90-8dd3-4864-8bcd-cb59cb57fda4",
     "showTitle": false,
     "title": ""
    },
    "id": "9itsiAS-dpq4"
   },
   "source": [
    "### Q6. What is the gender ratio in the dataset"
   ]
  },
  {
   "cell_type": "code",
   "execution_count": 10,
   "metadata": {
    "id": "i0JqGXdjdpq4"
   },
   "outputs": [
    {
     "name": "stdout",
     "output_type": "stream",
     "text": [
      "+------+-------------+\n",
      "|Gender|count(Gender)|\n",
      "+------+-------------+\n",
      "|     F|       135809|\n",
      "|     M|       414259|\n",
      "+------+-------------+\n",
      "\n"
     ]
    }
   ],
   "source": [
    "rawDF.groupBy(\"Gender\").agg({'Gender':'count'}).show()"
   ]
  },
  {
   "cell_type": "markdown",
   "metadata": {
    "application/vnd.databricks.v1+cell": {
     "inputWidgets": {},
     "nuid": "23ec1286-5821-4eb5-bf7c-044cd32bb268",
     "showTitle": false,
     "title": ""
    },
    "id": "5ffrCF18dpq4"
   },
   "source": [
    "### Q7. What is the purchase amount ratio with respect to gender"
   ]
  },
  {
   "cell_type": "code",
   "execution_count": 11,
   "metadata": {
    "id": "6PFBDMsydpq4"
   },
   "outputs": [
    {
     "name": "stdout",
     "output_type": "stream",
     "text": [
      "+------+-------------+\n",
      "|Gender|sum(Purchase)|\n",
      "+------+-------------+\n",
      "|     F|   1186232642|\n",
      "|     M|   3909580100|\n",
      "+------+-------------+\n",
      "\n"
     ]
    }
   ],
   "source": [
    "rawDF.groupBy(\"Gender\").agg({'Purchase':'sum'}).show()"
   ]
  },
  {
   "cell_type": "markdown",
   "metadata": {
    "application/vnd.databricks.v1+cell": {
     "inputWidgets": {},
     "nuid": "a596a5ff-d4a9-458e-a4ee-31b9baf433fe",
     "showTitle": false,
     "title": ""
    },
    "id": "EeTf7CuGdpq4"
   },
   "source": [
    "### Q8. Get shopping summary of each city"
   ]
  },
  {
   "cell_type": "code",
   "execution_count": 13,
   "metadata": {
    "id": "teGHCS-Bdpq5"
   },
   "outputs": [
    {
     "name": "stdout",
     "output_type": "stream",
     "text": [
      "+-------------+-------------+\n",
      "|City_Category|sum(Purchase)|\n",
      "+-------------+-------------+\n",
      "|            B|   2115533605|\n",
      "|            C|   1663807476|\n",
      "|            A|   1316471661|\n",
      "+-------------+-------------+\n",
      "\n"
     ]
    }
   ],
   "source": [
    "rawDF.groupBy(\"City_Category\").agg({'Purchase':'sum'}).show()"
   ]
  },
  {
   "cell_type": "markdown",
   "metadata": {
    "application/vnd.databricks.v1+cell": {
     "inputWidgets": {},
     "nuid": "44d6d042-0147-499e-89cd-8e6659b4a0cc",
     "showTitle": false,
     "title": ""
    },
    "id": "uJQWPOk2dpq5"
   },
   "source": [
    "### Q9. Create table from the dataframe"
   ]
  },
  {
   "cell_type": "code",
   "execution_count": 14,
   "metadata": {
    "id": "3NHppcskdpq5"
   },
   "outputs": [
    {
     "name": "stdout",
     "output_type": "stream",
     "text": [
      "+-------+----------+------+-----+----------+-------------+--------------------------+--------------+------------------+--------+\n",
      "|User_ID|Product_ID|Gender|Age  |Occupation|City_Category|Stay_In_Current_City_Years|Marital_Status|Product_Category_1|Purchase|\n",
      "+-------+----------+------+-----+----------+-------------+--------------------------+--------------+------------------+--------+\n",
      "|1000001|P00069042 |F     |0-17 |10        |A            |2                         |0             |3                 |8370    |\n",
      "|1000001|P00248942 |F     |0-17 |10        |A            |2                         |0             |1                 |15200   |\n",
      "|1000001|P00087842 |F     |0-17 |10        |A            |2                         |0             |12                |1422    |\n",
      "|1000001|P00085442 |F     |0-17 |10        |A            |2                         |0             |12                |1057    |\n",
      "|1000002|P00285442 |M     |55+  |16        |C            |4+                        |0             |8                 |7969    |\n",
      "|1000003|P00193542 |M     |26-35|15        |A            |3                         |0             |1                 |15227   |\n",
      "|1000004|P00184942 |M     |46-50|7         |B            |2                         |1             |1                 |19215   |\n",
      "|1000004|P00346142 |M     |46-50|7         |B            |2                         |1             |1                 |15854   |\n",
      "|1000004|P0097242  |M     |46-50|7         |B            |2                         |1             |1                 |15686   |\n",
      "|1000005|P00274942 |M     |26-35|20        |A            |1                         |1             |8                 |7871    |\n",
      "+-------+----------+------+-----+----------+-------------+--------------------------+--------------+------------------+--------+\n",
      "only showing top 10 rows\n",
      "\n"
     ]
    }
   ],
   "source": [
    "rawDF.createOrReplaceTempView(\"purchase_table\")  # convert dataframe to view\n",
    "spark.sql(\"select * from purchase_table\").show(10, False)"
   ]
  },
  {
   "cell_type": "markdown",
   "metadata": {
    "application/vnd.databricks.v1+cell": {
     "inputWidgets": {},
     "nuid": "ab7e4c35-50b9-492f-896e-b659c6950ed6",
     "showTitle": false,
     "title": ""
    },
    "id": "F5Eh_kVqdpq5"
   },
   "source": [
    "### Q10. Get the count of users for each city category by using spark sql query"
   ]
  },
  {
   "cell_type": "code",
   "execution_count": 16,
   "metadata": {
    "application/vnd.databricks.v1+cell": {
     "inputWidgets": {},
     "nuid": "d0729e11-e053-4ac2-8998-d61284ca99b7",
     "showTitle": false,
     "title": ""
    },
    "id": "e3ISh0Uodpq5",
    "outputId": "3724cb59-51db-44c7-cacc-cf746f74f033"
   },
   "outputs": [
    {
     "name": "stdout",
     "output_type": "stream",
     "text": [
      "+-------------+--------------+\n",
      "|City_Category|count(User_ID)|\n",
      "+-------------+--------------+\n",
      "|            B|        231173|\n",
      "|            C|        171175|\n",
      "|            A|        147720|\n",
      "+-------------+--------------+\n",
      "\n"
     ]
    }
   ],
   "source": [
    "spark.sql(\"select City_Category,count(User_ID) from purchase_table group by City_Category\").show()"
   ]
  }
 ],
 "metadata": {
  "application/vnd.databricks.v1+notebook": {
   "dashboards": [],
   "language": "python",
   "notebookMetadata": {
    "pythonIndentUnit": 2
   },
   "notebookName": "In-Class Exercise (Spark SQL)",
   "notebookOrigID": 4078344027369671,
   "widgets": {}
  },
  "colab": {
   "collapsed_sections": [],
   "name": "In-Class Exercise (Question).ipynb",
   "provenance": []
  },
  "kernelspec": {
   "display_name": "Python 3",
   "language": "python",
   "name": "python3"
  },
  "language_info": {
   "codemirror_mode": {
    "name": "ipython",
    "version": 3
   },
   "file_extension": ".py",
   "mimetype": "text/x-python",
   "name": "python",
   "nbconvert_exporter": "python",
   "pygments_lexer": "ipython3",
   "version": "3.7.5"
  }
 },
 "nbformat": 4,
 "nbformat_minor": 1
}
